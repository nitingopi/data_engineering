{
 "cells": [
  {
   "cell_type": "code",
   "execution_count": 1,
   "metadata": {},
   "outputs": [
    {
     "name": "stdout",
     "output_type": "stream",
     "text": [
      "Connected to PostgreSQL database. Version: ('PostgreSQL 14.12 (Ubuntu 14.12-0ubuntu0.22.04.1) on x86_64-pc-linux-gnu, compiled by gcc (Ubuntu 11.4.0-1ubuntu1~22.04) 11.4.0, 64-bit',)\n",
      "PostgreSQL connection is closed.\n"
     ]
    }
   ],
   "source": [
    "import psycopg2\n",
    "from psycopg2 import sql\n",
    "\n",
    "# Database connection parameters\n",
    "db_params = {\n",
    "    'dbname': 'workshop',\n",
    "    'user': 'another_user',\n",
    "    'password': 'test',\n",
    "    'host': '172.21.39.113',\n",
    "    'port': '5432'  # Default PostgreSQL port is 5432\n",
    "}\n",
    "\n",
    "try:\n",
    "    # Establish a connection to the PostgreSQL database\n",
    "    connection = psycopg2.connect(**db_params)\n",
    "    \n",
    "    # Create a cursor object\n",
    "    cursor = connection.cursor()\n",
    "    \n",
    "    # Execute a query\n",
    "    cursor.execute(\"SELECT version();\")\n",
    "    \n",
    "    # Fetch the result\n",
    "    db_version = cursor.fetchone()\n",
    "    print(f\"Connected to PostgreSQL database. Version: {db_version}\")\n",
    "    \n",
    "    # Close the cursor and connection\n",
    "    cursor.close()\n",
    "    connection.close()\n",
    "\n",
    "except psycopg2.DatabaseError as error:\n",
    "    print(f\"Error: {error}\")\n",
    "finally:\n",
    "    if connection:\n",
    "        connection.close()\n",
    "        print(\"PostgreSQL connection is closed.\")\n"
   ]
  },
  {
   "cell_type": "code",
   "execution_count": 2,
   "metadata": {},
   "outputs": [
    {
     "name": "stdout",
     "output_type": "stream",
     "text": [
      "4\n"
     ]
    }
   ],
   "source": [
    "from  example_package_nitingopi import example\n",
    "print(example.add_one(3))"
   ]
  },
  {
   "cell_type": "code",
   "execution_count": null,
   "metadata": {},
   "outputs": [],
   "source": []
  }
 ],
 "metadata": {
  "kernelspec": {
   "display_name": "data_env",
   "language": "python",
   "name": "python3"
  },
  "language_info": {
   "codemirror_mode": {
    "name": "ipython",
    "version": 3
   },
   "file_extension": ".py",
   "mimetype": "text/x-python",
   "name": "python",
   "nbconvert_exporter": "python",
   "pygments_lexer": "ipython3",
   "version": "3.12.4"
  }
 },
 "nbformat": 4,
 "nbformat_minor": 2
}
